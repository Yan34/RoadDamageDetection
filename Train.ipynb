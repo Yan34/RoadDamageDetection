{
 "cells": [
  {
   "cell_type": "markdown",
   "source": [
    "**Импорт библиотек**"
   ],
   "metadata": {
    "collapsed": false
   }
  },
  {
   "cell_type": "code",
   "execution_count": 51,
   "metadata": {
    "collapsed": true,
    "ExecuteTime": {
     "start_time": "2023-04-24T20:10:55.237054Z",
     "end_time": "2023-04-24T20:10:55.254667Z"
    }
   },
   "outputs": [],
   "source": [
    "import os\n",
    "import shutil\n",
    "import json\n",
    "from PreapreDataLib import create_folder_if_not_exists\n",
    "\n",
    "from pycocotools.coco import COCO\n",
    "from mmengine.config import *\n",
    "from mmengine.runner import set_random_seed\n",
    "from mmdet.datasets import CocoDataset\n",
    "from mmdet.apis import init_detector, inference_detector\n",
    "from mmengine.registry import *\n",
    "import torch"
   ]
  },
  {
   "cell_type": "code",
   "execution_count": 5,
   "outputs": [],
   "source": [
    "DATASET_DIR = os.path.abspath('./DatasetCocoFormat/')\n",
    "TRAIN_DIR = os.path.join(DATASET_DIR, 'train')\n",
    "TEST_DIR  = os.path.join(DATASET_DIR, 'test')\n",
    "VAL_DIR = os.path.join(DATASET_DIR, 'val')\n",
    "ANN_DIR = os.path.join(DATASET_DIR, 'annotations')\n",
    "TRAIN_ANN_PTH = os.path.join(ANN_DIR, \"train.json\")\n",
    "VAL_ANN_PTH = os.path.join(ANN_DIR, \"val.json\")\n",
    "TEST_ANN_PTH = os.path.join(ANN_DIR, \"test.json\")"
   ],
   "metadata": {
    "collapsed": false,
    "ExecuteTime": {
     "start_time": "2023-04-24T18:08:09.702014Z",
     "end_time": "2023-04-24T18:08:09.709020Z"
    }
   }
  },
  {
   "cell_type": "markdown",
   "source": [
    "**Загрузка конфига Mask R-CNN ResNet101 FPN 1x**"
   ],
   "metadata": {
    "collapsed": false
   }
  },
  {
   "cell_type": "code",
   "execution_count": 23,
   "outputs": [],
   "source": [
    "CONFIGS_DIR = os.path.abspath(\"./configs\")\n",
    "create_folder_if_not_exists(\"./configs\")\n",
    "MRCNN_BASE_CONFIG_PTH = os.path.join(CONFIGS_DIR, \"mask-rcnn_r101_fpn_1x_coco.py\")\n",
    "MRCNN_USER_CONFIG_PTH = os.path.join(CONFIGS_DIR, \"mask-rcnn_r101_fpn_1x_coco_for_road_damages.py\")\n",
    "if not os.path.exists(MRCNN_BASE_CONFIG_PTH):\n",
    "    !mim download mmdet --config mask-rcnn_r101_fpn_1x_coco --dest \"./configs\""
   ],
   "metadata": {
    "collapsed": false,
    "ExecuteTime": {
     "start_time": "2023-04-24T19:22:04.895154Z",
     "end_time": "2023-04-24T19:22:04.906164Z"
    }
   }
  },
  {
   "cell_type": "markdown",
   "source": [
    "**Изменение конфига под задачу и датасет**"
   ],
   "metadata": {
    "collapsed": false
   }
  },
  {
   "cell_type": "code",
   "execution_count": 55,
   "outputs": [],
   "source": [],
   "metadata": {
    "collapsed": false,
    "ExecuteTime": {
     "start_time": "2023-04-24T20:31:36.153650Z",
     "end_time": "2023-04-24T20:31:36.170665Z"
    }
   }
  }
 ],
 "metadata": {
  "kernelspec": {
   "display_name": "Python 3",
   "language": "python",
   "name": "python3"
  },
  "language_info": {
   "codemirror_mode": {
    "name": "ipython",
    "version": 2
   },
   "file_extension": ".py",
   "mimetype": "text/x-python",
   "name": "python",
   "nbconvert_exporter": "python",
   "pygments_lexer": "ipython2",
   "version": "2.7.6"
  }
 },
 "nbformat": 4,
 "nbformat_minor": 0
}
