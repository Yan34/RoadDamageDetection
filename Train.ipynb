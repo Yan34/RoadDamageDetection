{
 "cells": [
  {
   "cell_type": "markdown",
   "source": [
    "**Импорт библиотек**"
   ],
   "metadata": {
    "collapsed": false
   }
  },
  {
   "cell_type": "code",
   "execution_count": 1,
   "metadata": {
    "collapsed": true,
    "ExecuteTime": {
     "end_time": "2023-05-12T18:56:46.379863700Z",
     "start_time": "2023-05-12T18:56:37.109373800Z"
    }
   },
   "outputs": [
    {
     "name": "stderr",
     "output_type": "stream",
     "text": [
      "D:\\University\\miniconda3\\envs\\RoadDamageDetection\\lib\\site-packages\\mmcv\\__init__.py:20: UserWarning: On January 1, 2023, MMCV will release v2.0.0, in which it will remove components related to the training process and add a data transformation module. In addition, it will rename the package names mmcv to mmcv-lite and mmcv-full to mmcv. See https://github.com/open-mmlab/mmcv/blob/master/docs/en/compatibility.md for more details.\n",
      "  warnings.warn(\n"
     ]
    }
   ],
   "source": [
    "import os\n",
    "import shutil\n",
    "import json\n",
    "from PreapreDataLib import create_folder_if_not_exists\n",
    "\n",
    "import numpy as np\n",
    "from pycocotools.coco import COCO\n",
    "from mmcv import Config\n",
    "from mmdet.apis import set_random_seed\n",
    "from mmdet.datasets import build_dataset\n",
    "from mmdet.models import build_detector\n",
    "from mmdet.models import MaskRCNN\n",
    "import mmdet.apis as mmapi\n",
    "# from mmdet.apis import train_detector, init_detector, inference_detector, show_result_pyplot\n",
    "import torch"
   ]
  },
  {
   "cell_type": "code",
   "execution_count": 8,
   "outputs": [],
   "source": [
    "DATASET_DIR = './DatasetCocoFormat1200/'\n",
    "TRAIN_DIR = DATASET_DIR + 'train/'\n",
    "TEST_DIR  = DATASET_DIR + 'test/'\n",
    "VAL_DIR = DATASET_DIR + 'val/'\n",
    "ANN_DIR = DATASET_DIR + 'annotations/'\n",
    "TRAIN_ANN_PTH = ANN_DIR + \"train.json\"\n",
    "VAL_ANN_PTH = ANN_DIR + \"val.json\"\n",
    "TEST_ANN_PTH = ANN_DIR + \"test.json\""
   ],
   "metadata": {
    "collapsed": false,
    "ExecuteTime": {
     "end_time": "2023-05-12T15:43:25.450757800Z",
     "start_time": "2023-05-12T15:43:25.437746Z"
    }
   }
  },
  {
   "cell_type": "markdown",
   "source": [
    "**Загрузка конфига Mask R-CNN ResNet101 FPN 1x**"
   ],
   "metadata": {
    "collapsed": false
   }
  },
  {
   "cell_type": "code",
   "execution_count": 9,
   "outputs": [],
   "source": [
    "CONFIGS_DIR = \"./configs/\"\n",
    "create_folder_if_not_exists(\"./configs/\")\n",
    "MRCNN_BASE_CONFIG_PTH = CONFIGS_DIR + \"mask_rcnn_r50_fpn_1x_coco.py\"\n",
    "MRCNN_USER_CONFIG_PTH = CONFIGS_DIR + \"mask_rcnn_r50_fpn_1x_coco_for_road_damages_5.py\""
   ],
   "metadata": {
    "collapsed": false,
    "ExecuteTime": {
     "end_time": "2023-05-12T15:43:32.311822600Z",
     "start_time": "2023-05-12T15:43:32.287781300Z"
    }
   }
  },
  {
   "cell_type": "code",
   "execution_count": 97,
   "outputs": [],
   "source": [
    "if not os.path.exists(MRCNN_BASE_CONFIG_PTH):\n",
    "    !mim download mmdet --config mask_rcnn_r50_fpn_1x_coco --dest \"./configs\""
   ],
   "metadata": {
    "collapsed": false,
    "ExecuteTime": {
     "end_time": "2023-05-10T22:17:42.529748500Z",
     "start_time": "2023-05-10T22:17:42.498719100Z"
    }
   }
  },
  {
   "cell_type": "markdown",
   "source": [
    "**Изменение конфига под задачу и датасет**"
   ],
   "metadata": {
    "collapsed": false
   }
  },
  {
   "cell_type": "code",
   "execution_count": 98,
   "outputs": [],
   "source": [
    "cfg = Config.fromfile(MRCNN_BASE_CONFIG_PTH)"
   ],
   "metadata": {
    "collapsed": false,
    "ExecuteTime": {
     "end_time": "2023-05-10T22:17:42.547764800Z",
     "start_time": "2023-05-10T22:17:42.511730600Z"
    }
   }
  },
  {
   "cell_type": "code",
   "execution_count": 99,
   "outputs": [],
   "source": [
    "cfg.model.roi_head.bbox_head.num_classes = 2\n",
    "cfg.model.roi_head.mask_head.num_classes = 2\n",
    "\n",
    "cfg.data_root = DATASET_DIR\n",
    "\n",
    "cfg.data.samples_per_gpu = 1\n",
    "cfg.data.workers_per_gpu = 1\n",
    "\n",
    "cfg.data.train.img_prefix = TRAIN_DIR\n",
    "cfg.data.val.img_prefix = VAL_DIR\n",
    "cfg.data.test.img_prefix = TEST_DIR\n",
    "\n",
    "cfg.data.train.ann_file = TRAIN_ANN_PTH\n",
    "cfg.data.val.ann_file = VAL_ANN_PTH\n",
    "cfg.data.test.ann_file = TEST_ANN_PTH\n",
    "\n",
    "# (1280, 640)\n",
    "cfg.test_pipeline[1].img_scale = (640, 640)\n",
    "cfg.train_pipeline[2].img_scale = (640, 640)\n",
    "\n",
    "cfg.data.train.pipeline[2].img_scale = (640, 640)\n",
    "cfg.data.val.pipeline[1].img_scale = (640, 640)\n",
    "cfg.data.test.pipeline[1].img_scale = (640, 640)\n",
    "# cfg.data.test.pipeline[1].img_scale = (512, 320)\n",
    "\n",
    "# изменение гиперпараметров\n",
    "cfg.model.rpn_head.anchor_generator.scales=[2,4,8,16,32]\n",
    "cfg.model.test_cfg.rcnn.max_per_img = 200\n",
    "cfg.model.test_cfg.rcnn.nms.iou_threshold = 0.3\n",
    "# cfg.model.train_cfg.rcnn.mask_size = 56\n",
    "\n",
    "cfg.optimizer.lr = 0.01\n",
    "cfg.optimizer.weight_decay = 0.00001\n",
    "cfg.runner.max_epochs = 300\n",
    "\n",
    "cfg.lr_config.warmup_by_epoch = True\n",
    "cfg.lr_config.warmup_iters = 32\n",
    "cfg.lr_config.warmup_ratio = 0.0003125\n",
    "\n",
    "\n",
    "cfg_classes = (\"crack\", \"pothole\")\n",
    "cfg.data.train.classes = cfg_classes\n",
    "cfg.data.val.classes = cfg_classes\n",
    "cfg.data.test.classes = cfg_classes\n",
    "\n",
    "cfg.seed = 0\n",
    "set_random_seed(0, deterministic=False)\n",
    "cfg.gpu_ids = range(1)\n",
    "cfg.device = \"cuda\"\n",
    "cfg.load_from = CONFIGS_DIR + \"mask_rcnn_r50_fpn_1x_coco_20200205-d4b0c5d6.pth\"\n",
    "\n",
    "cfg.work_dir = CONFIGS_DIR"
   ],
   "metadata": {
    "collapsed": false,
    "ExecuteTime": {
     "end_time": "2023-05-10T22:17:42.567781200Z",
     "start_time": "2023-05-10T22:17:42.543762200Z"
    }
   }
  },
  {
   "cell_type": "code",
   "execution_count": 100,
   "outputs": [],
   "source": [
    "if os.path.exists(MRCNN_USER_CONFIG_PTH):\n",
    "    os.remove(MRCNN_USER_CONFIG_PTH)\n",
    "cfg.dump(MRCNN_USER_CONFIG_PTH)"
   ],
   "metadata": {
    "collapsed": false,
    "ExecuteTime": {
     "end_time": "2023-05-10T22:17:42.954133Z",
     "start_time": "2023-05-10T22:17:42.559774700Z"
    }
   }
  },
  {
   "cell_type": "code",
   "execution_count": 10,
   "outputs": [
    {
     "name": "stdout",
     "output_type": "stream",
     "text": [
      "model = dict(\n",
      "    type='MaskRCNN',\n",
      "    backbone=dict(\n",
      "        type='ResNet',\n",
      "        depth=50,\n",
      "        num_stages=4,\n",
      "        out_indices=(0, 1, 2, 3),\n",
      "        frozen_stages=1,\n",
      "        norm_cfg=dict(type='BN', requires_grad=True),\n",
      "        norm_eval=True,\n",
      "        style='pytorch',\n",
      "        init_cfg=dict(type='Pretrained', checkpoint='torchvision://resnet50')),\n",
      "    neck=dict(\n",
      "        type='FPN',\n",
      "        in_channels=[256, 512, 1024, 2048],\n",
      "        out_channels=256,\n",
      "        num_outs=5),\n",
      "    rpn_head=dict(\n",
      "        type='RPNHead',\n",
      "        in_channels=256,\n",
      "        feat_channels=256,\n",
      "        anchor_generator=dict(\n",
      "            type='AnchorGenerator',\n",
      "            scales=[2, 4, 8, 16, 32],\n",
      "            ratios=[0.5, 1.0, 2.0],\n",
      "            strides=[4, 8, 16, 32, 64]),\n",
      "        bbox_coder=dict(\n",
      "            type='DeltaXYWHBBoxCoder',\n",
      "            target_means=[0.0, 0.0, 0.0, 0.0],\n",
      "            target_stds=[1.0, 1.0, 1.0, 1.0]),\n",
      "        loss_cls=dict(\n",
      "            type='CrossEntropyLoss', use_sigmoid=True, loss_weight=1.0),\n",
      "        loss_bbox=dict(type='L1Loss', loss_weight=1.0)),\n",
      "    roi_head=dict(\n",
      "        type='StandardRoIHead',\n",
      "        bbox_roi_extractor=dict(\n",
      "            type='SingleRoIExtractor',\n",
      "            roi_layer=dict(type='RoIAlign', output_size=7, sampling_ratio=0),\n",
      "            out_channels=256,\n",
      "            featmap_strides=[4, 8, 16, 32]),\n",
      "        bbox_head=dict(\n",
      "            type='Shared2FCBBoxHead',\n",
      "            in_channels=256,\n",
      "            fc_out_channels=1024,\n",
      "            roi_feat_size=7,\n",
      "            num_classes=2,\n",
      "            bbox_coder=dict(\n",
      "                type='DeltaXYWHBBoxCoder',\n",
      "                target_means=[0.0, 0.0, 0.0, 0.0],\n",
      "                target_stds=[0.1, 0.1, 0.2, 0.2]),\n",
      "            reg_class_agnostic=False,\n",
      "            loss_cls=dict(\n",
      "                type='CrossEntropyLoss', use_sigmoid=False, loss_weight=1.0),\n",
      "            loss_bbox=dict(type='L1Loss', loss_weight=1.0)),\n",
      "        mask_roi_extractor=dict(\n",
      "            type='SingleRoIExtractor',\n",
      "            roi_layer=dict(type='RoIAlign', output_size=14, sampling_ratio=0),\n",
      "            out_channels=256,\n",
      "            featmap_strides=[4, 8, 16, 32]),\n",
      "        mask_head=dict(\n",
      "            type='FCNMaskHead',\n",
      "            num_convs=4,\n",
      "            in_channels=256,\n",
      "            conv_out_channels=256,\n",
      "            num_classes=2,\n",
      "            loss_mask=dict(\n",
      "                type='CrossEntropyLoss', use_mask=True, loss_weight=1.0))),\n",
      "    train_cfg=dict(\n",
      "        rpn=dict(\n",
      "            assigner=dict(\n",
      "                type='MaxIoUAssigner',\n",
      "                pos_iou_thr=0.7,\n",
      "                neg_iou_thr=0.3,\n",
      "                min_pos_iou=0.3,\n",
      "                match_low_quality=True,\n",
      "                ignore_iof_thr=-1),\n",
      "            sampler=dict(\n",
      "                type='RandomSampler',\n",
      "                num=256,\n",
      "                pos_fraction=0.5,\n",
      "                neg_pos_ub=-1,\n",
      "                add_gt_as_proposals=False),\n",
      "            allowed_border=-1,\n",
      "            pos_weight=-1,\n",
      "            debug=False),\n",
      "        rpn_proposal=dict(\n",
      "            nms_pre=2000,\n",
      "            max_per_img=1000,\n",
      "            nms=dict(type='nms', iou_threshold=0.7),\n",
      "            min_bbox_size=0),\n",
      "        rcnn=dict(\n",
      "            assigner=dict(\n",
      "                type='MaxIoUAssigner',\n",
      "                pos_iou_thr=0.5,\n",
      "                neg_iou_thr=0.5,\n",
      "                min_pos_iou=0.5,\n",
      "                match_low_quality=True,\n",
      "                ignore_iof_thr=-1),\n",
      "            sampler=dict(\n",
      "                type='RandomSampler',\n",
      "                num=512,\n",
      "                pos_fraction=0.25,\n",
      "                neg_pos_ub=-1,\n",
      "                add_gt_as_proposals=True),\n",
      "            mask_size=28,\n",
      "            pos_weight=-1,\n",
      "            debug=False)),\n",
      "    test_cfg=dict(\n",
      "        rpn=dict(\n",
      "            nms_pre=1000,\n",
      "            max_per_img=1000,\n",
      "            nms=dict(type='nms', iou_threshold=0.7),\n",
      "            min_bbox_size=0),\n",
      "        rcnn=dict(\n",
      "            score_thr=0.05,\n",
      "            nms=dict(type='nms', iou_threshold=0.3),\n",
      "            max_per_img=200,\n",
      "            mask_thr_binary=0.5)))\n",
      "dataset_type = 'CocoDataset'\n",
      "data_root = './DatasetCocoFormat1200/'\n",
      "img_norm_cfg = dict(\n",
      "    mean=[123.675, 116.28, 103.53], std=[58.395, 57.12, 57.375], to_rgb=True)\n",
      "train_pipeline = [\n",
      "    dict(type='LoadImageFromFile'),\n",
      "    dict(type='LoadAnnotations', with_bbox=True, with_mask=True),\n",
      "    dict(type='Resize', img_scale=(640, 640), keep_ratio=True),\n",
      "    dict(type='RandomFlip', flip_ratio=0.5),\n",
      "    dict(\n",
      "        type='Normalize',\n",
      "        mean=[123.675, 116.28, 103.53],\n",
      "        std=[58.395, 57.12, 57.375],\n",
      "        to_rgb=True),\n",
      "    dict(type='Pad', size_divisor=32),\n",
      "    dict(type='DefaultFormatBundle'),\n",
      "    dict(type='Collect', keys=['img', 'gt_bboxes', 'gt_labels', 'gt_masks'])\n",
      "]\n",
      "test_pipeline = [\n",
      "    dict(type='LoadImageFromFile'),\n",
      "    dict(\n",
      "        type='MultiScaleFlipAug',\n",
      "        img_scale=(640, 640),\n",
      "        flip=False,\n",
      "        transforms=[\n",
      "            dict(type='Resize', keep_ratio=True),\n",
      "            dict(type='RandomFlip'),\n",
      "            dict(\n",
      "                type='Normalize',\n",
      "                mean=[123.675, 116.28, 103.53],\n",
      "                std=[58.395, 57.12, 57.375],\n",
      "                to_rgb=True),\n",
      "            dict(type='Pad', size_divisor=32),\n",
      "            dict(type='ImageToTensor', keys=['img']),\n",
      "            dict(type='Collect', keys=['img'])\n",
      "        ])\n",
      "]\n",
      "data = dict(\n",
      "    samples_per_gpu=1,\n",
      "    workers_per_gpu=1,\n",
      "    train=dict(\n",
      "        type='CocoDataset',\n",
      "        ann_file='./DatasetCocoFormat1200/annotations/train.json',\n",
      "        img_prefix='./DatasetCocoFormat1200/train/',\n",
      "        pipeline=[\n",
      "            dict(type='LoadImageFromFile'),\n",
      "            dict(type='LoadAnnotations', with_bbox=True, with_mask=True),\n",
      "            dict(type='Resize', img_scale=(640, 640), keep_ratio=True),\n",
      "            dict(type='RandomFlip', flip_ratio=0.5),\n",
      "            dict(\n",
      "                type='Normalize',\n",
      "                mean=[123.675, 116.28, 103.53],\n",
      "                std=[58.395, 57.12, 57.375],\n",
      "                to_rgb=True),\n",
      "            dict(type='Pad', size_divisor=32),\n",
      "            dict(type='DefaultFormatBundle'),\n",
      "            dict(\n",
      "                type='Collect',\n",
      "                keys=['img', 'gt_bboxes', 'gt_labels', 'gt_masks'])\n",
      "        ],\n",
      "        classes=('crack', 'pothole')),\n",
      "    val=dict(\n",
      "        type='CocoDataset',\n",
      "        ann_file='./DatasetCocoFormat1200/annotations/val.json',\n",
      "        img_prefix='./DatasetCocoFormat1200/val/',\n",
      "        pipeline=[\n",
      "            dict(type='LoadImageFromFile'),\n",
      "            dict(\n",
      "                type='MultiScaleFlipAug',\n",
      "                img_scale=(640, 640),\n",
      "                flip=False,\n",
      "                transforms=[\n",
      "                    dict(type='Resize', keep_ratio=True),\n",
      "                    dict(type='RandomFlip'),\n",
      "                    dict(\n",
      "                        type='Normalize',\n",
      "                        mean=[123.675, 116.28, 103.53],\n",
      "                        std=[58.395, 57.12, 57.375],\n",
      "                        to_rgb=True),\n",
      "                    dict(type='Pad', size_divisor=32),\n",
      "                    dict(type='ImageToTensor', keys=['img']),\n",
      "                    dict(type='Collect', keys=['img'])\n",
      "                ])\n",
      "        ],\n",
      "        classes=('crack', 'pothole')),\n",
      "    test=dict(\n",
      "        type='CocoDataset',\n",
      "        ann_file='./DatasetCocoFormat1200/annotations/test.json',\n",
      "        img_prefix='./DatasetCocoFormat1200/test/',\n",
      "        pipeline=[\n",
      "            dict(type='LoadImageFromFile'),\n",
      "            dict(\n",
      "                type='MultiScaleFlipAug',\n",
      "                img_scale=(640, 640),\n",
      "                flip=False,\n",
      "                transforms=[\n",
      "                    dict(type='Resize', keep_ratio=True),\n",
      "                    dict(type='RandomFlip'),\n",
      "                    dict(\n",
      "                        type='Normalize',\n",
      "                        mean=[123.675, 116.28, 103.53],\n",
      "                        std=[58.395, 57.12, 57.375],\n",
      "                        to_rgb=True),\n",
      "                    dict(type='Pad', size_divisor=32),\n",
      "                    dict(type='ImageToTensor', keys=['img']),\n",
      "                    dict(type='Collect', keys=['img'])\n",
      "                ])\n",
      "        ],\n",
      "        classes=('crack', 'pothole')))\n",
      "evaluation = dict(metric=['bbox', 'segm'])\n",
      "optimizer = dict(type='SGD', lr=0.01, momentum=0.9, weight_decay=1e-05)\n",
      "optimizer_config = dict(grad_clip=None)\n",
      "lr_config = dict(\n",
      "    policy='step',\n",
      "    warmup='linear',\n",
      "    warmup_iters=32,\n",
      "    warmup_ratio=0.0003125,\n",
      "    step=[8, 11],\n",
      "    warmup_by_epoch=True)\n",
      "runner = dict(type='EpochBasedRunner', max_epochs=300)\n",
      "checkpoint_config = dict(interval=1)\n",
      "log_config = dict(interval=50, hooks=[dict(type='TextLoggerHook')])\n",
      "custom_hooks = [dict(type='NumClassCheckHook')]\n",
      "dist_params = dict(backend='nccl')\n",
      "log_level = 'INFO'\n",
      "load_from = './configs/mask_rcnn_r50_fpn_1x_coco_20200205-d4b0c5d6.pth'\n",
      "resume_from = None\n",
      "workflow = [('train', 1)]\n",
      "opencv_num_threads = 0\n",
      "mp_start_method = 'fork'\n",
      "auto_scale_lr = dict(enable=False, base_batch_size=16)\n",
      "seed = 0\n",
      "gpu_ids = range(0, 1)\n",
      "device = 'cuda'\n",
      "work_dir = './configs/'\n",
      "\n"
     ]
    }
   ],
   "source": [
    "user_config = Config.fromfile(MRCNN_USER_CONFIG_PTH)\n",
    "print(user_config.pretty_text)"
   ],
   "metadata": {
    "collapsed": false,
    "ExecuteTime": {
     "end_time": "2023-05-12T15:43:38.067175100Z",
     "start_time": "2023-05-12T15:43:37.403575200Z"
    }
   }
  },
  {
   "cell_type": "markdown",
   "source": [
    "**Создание модели**"
   ],
   "metadata": {
    "collapsed": false
   }
  },
  {
   "cell_type": "code",
   "execution_count": 102,
   "outputs": [],
   "source": [
    "model = build_detector(user_config.model)"
   ],
   "metadata": {
    "collapsed": false,
    "ExecuteTime": {
     "end_time": "2023-05-10T22:17:43.626744700Z",
     "start_time": "2023-05-10T22:17:43.344487200Z"
    }
   }
  },
  {
   "cell_type": "code",
   "execution_count": 11,
   "outputs": [
    {
     "name": "stdout",
     "output_type": "stream",
     "text": [
      "loading annotations into memory...\n",
      "Done (t=0.44s)\n",
      "creating index...\n",
      "index created!\n"
     ]
    }
   ],
   "source": [
    "datasets = [build_dataset(user_config.data.train)]"
   ],
   "metadata": {
    "collapsed": false,
    "ExecuteTime": {
     "end_time": "2023-05-12T15:43:42.373958700Z",
     "start_time": "2023-05-12T15:43:41.878500400Z"
    }
   }
  },
  {
   "cell_type": "markdown",
   "source": [
    "**Обучение модели**"
   ],
   "metadata": {
    "collapsed": false
   }
  },
  {
   "cell_type": "code",
   "execution_count": 25,
   "outputs": [
    {
     "ename": "NameError",
     "evalue": "name 'model' is not defined",
     "output_type": "error",
     "traceback": [
      "\u001B[1;31m---------------------------------------------------------------------------\u001B[0m",
      "\u001B[1;31mNameError\u001B[0m                                 Traceback (most recent call last)",
      "Cell \u001B[1;32mIn[25], line 3\u001B[0m\n\u001B[0;32m      1\u001B[0m \u001B[38;5;66;03m# model.with_cp = True\u001B[39;00m\n\u001B[0;32m      2\u001B[0m \u001B[38;5;66;03m# model.fp16_enabled = True\u001B[39;00m\n\u001B[1;32m----> 3\u001B[0m mmapi\u001B[38;5;241m.\u001B[39mtrain_detector(\u001B[43mmodel\u001B[49m, datasets[\u001B[38;5;241m0\u001B[39m], cfg, distributed\u001B[38;5;241m=\u001B[39m\u001B[38;5;28;01mFalse\u001B[39;00m, validate\u001B[38;5;241m=\u001B[39m\u001B[38;5;28;01mTrue\u001B[39;00m)\n\u001B[0;32m      4\u001B[0m torch\u001B[38;5;241m.\u001B[39mcuda\u001B[38;5;241m.\u001B[39mempty_cache()\n",
      "\u001B[1;31mNameError\u001B[0m: name 'model' is not defined"
     ]
    }
   ],
   "source": [
    "# model.with_cp = True\n",
    "# model.fp16_enabled = True\n",
    "mmapi.train_detector(model, datasets[0], cfg, distributed=False, validate=True)\n",
    "torch.cuda.empty_cache()"
   ],
   "metadata": {
    "collapsed": false,
    "ExecuteTime": {
     "end_time": "2023-05-11T12:06:54.653524100Z",
     "start_time": "2023-05-11T12:06:54.273200Z"
    }
   }
  },
  {
   "cell_type": "code",
   "execution_count": 31,
   "outputs": [],
   "source": [
    "torch.cuda.empty_cache()"
   ],
   "metadata": {
    "collapsed": false,
    "ExecuteTime": {
     "end_time": "2023-05-11T21:55:31.844074900Z",
     "start_time": "2023-05-11T21:55:31.841073100Z"
    }
   }
  },
  {
   "cell_type": "markdown",
   "source": [
    "**Сохранение результатов обучения**"
   ],
   "metadata": {
    "collapsed": false
   }
  },
  {
   "cell_type": "code",
   "execution_count": 12,
   "outputs": [],
   "source": [
    "MRCNN_RESNET50_FPN_RDD_PTH = CONFIGS_DIR + \"mask_rcnn_r50_fpn_1x_coco_for_road_damages_5_epoch_25.pth\""
   ],
   "metadata": {
    "collapsed": false,
    "ExecuteTime": {
     "end_time": "2023-05-12T15:43:46.992181900Z",
     "start_time": "2023-05-12T15:43:46.967123500Z"
    }
   }
  },
  {
   "cell_type": "code",
   "execution_count": 7,
   "outputs": [],
   "source": [
    "if not os.path.exists(MRCNN_RESNET50_FPN_RDD_PTH):\n",
    "    shutil.copy(CONFIGS_DIR + \"epoch_25.pth\", MRCNN_RESNET50_FPN_RDD_PTH)"
   ],
   "metadata": {
    "collapsed": false,
    "ExecuteTime": {
     "end_time": "2023-05-11T10:18:18.784718800Z",
     "start_time": "2023-05-11T10:18:18.745673900Z"
    }
   }
  },
  {
   "cell_type": "code",
   "execution_count": 5,
   "outputs": [
    {
     "name": "stdout",
     "output_type": "stream",
     "text": [
      "plot curve of configs/mask_rcnn_r50_fpn_1x_coco_for_road_damages_5.log.json, metric is segm_mAP_50\n",
      "Figure(640x480)\n"
     ]
    }
   ],
   "source": [
    "# %matplotlib inline\n",
    "from mmdetection.tools.analysis_tools.analyze_logs import plot_curve\n",
    "# class PlotInput:\n",
    "#     def __init__(self, backend=None, style=None, legend=None, json_logs=None, keys=None, eval_interval=None, title=None, out=None):\n",
    "#         self.backend = backend\n",
    "#         self.style = style\n",
    "#         self.legend = legend\n",
    "#         self.json_logs = json_logs\n",
    "#         self.keys = keys\n",
    "#         self.eval_interval = eval_interval\n",
    "#         self.title = title\n",
    "#         self.out = out\n",
    "\n",
    "    # def backend(self):\n",
    "    #     return self.backend\n",
    "    #\n",
    "    # def style(self):\n",
    "    #     return self.style()\n",
    "\n",
    "\n",
    "# input = PlotInput(keys=\"segm_mAP_50\", legend=\"segm_mAP_50\")\n",
    "# a = input.keys\n",
    "\n",
    "# plot_curve(\"configs/mask_rcnn_r50_fpn_1x_coco_for_road_damages_5.log.json\",\n",
    "#            dict(backend: None, style: None, legend: segm_mAP_50, json_logs: None, keys: \"segm_mAP_50\", eval_interval: None, title: None, out: None))\n",
    "# plot_curve(\"configs/mask_rcnn_r50_fpn_1x_coco_for_road_damages_5.log.json\", PlotInput)\n",
    "!python mmdetection/tools/analysis_tools/analyze_logs.py plot_curve configs/mask_rcnn_r50_fpn_1x_coco_for_road_damages_5.log.json --keys segm_mAP_50  --legend segm_mAP_50\n",
    "\n",
    "!python mmdetection/tools/analysis_tools/analyze_logs.py plot_curve configs/mask_rcnn_r50_fpn_1x_coco_for_road_damages_3.log.json configs/mask_rcnn_r50_fpn_1x_coco_for_road_damages_5.log.json --keys loss_mask --legend loss_mask_20_epochs loss_mask_268_epochs\n",
    "\n",
    "!python mmdetection/tools/analysis_tools/analyze_logs.py plot_curve configs/mask_rcnn_r50_fpn_1x_coco_for_road_damages_3.log.json configs/mask_rcnn_r50_fpn_1x_coco_for_road_damages_5.log.json --keys segm_mAP_50 segm_mAP_75 segm_mAP_s --legend segm_mAP_50_20_epochs segm_mAP_75_20_epochs segm_mAP_s_20_epochs segm_mAP_50_268_epochs segm_mAP_75_268_epochs segm_mAP_s_268_epochs\n"
   ],
   "metadata": {
    "collapsed": false,
    "ExecuteTime": {
     "end_time": "2023-05-12T12:48:15.539655700Z",
     "start_time": "2023-05-12T12:48:12.929191300Z"
    }
   }
  }
 ],
 "metadata": {
  "kernelspec": {
   "display_name": "Python 3",
   "language": "python",
   "name": "python3"
  },
  "language_info": {
   "codemirror_mode": {
    "name": "ipython",
    "version": 2
   },
   "file_extension": ".py",
   "mimetype": "text/x-python",
   "name": "python",
   "nbconvert_exporter": "python",
   "pygments_lexer": "ipython2",
   "version": "2.7.6"
  }
 },
 "nbformat": 4,
 "nbformat_minor": 0
}
