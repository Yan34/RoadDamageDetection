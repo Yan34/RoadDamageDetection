{
 "cells": [
  {
   "cell_type": "markdown",
   "source": [
    "**Загрузка датасета**"
   ],
   "metadata": {
    "collapsed": false
   }
  },
  {
   "cell_type": "code",
   "execution_count": 1,
   "outputs": [],
   "source": [
    "from PreapreDataLib import *\n",
    "from download import download"
   ],
   "metadata": {
    "collapsed": false,
    "ExecuteTime": {
     "start_time": "2023-04-23T16:53:00.406909Z",
     "end_time": "2023-04-23T16:53:00.566054Z"
    }
   }
  },
  {
   "cell_type": "code",
   "execution_count": 3,
   "metadata": {
    "collapsed": true,
    "ExecuteTime": {
     "start_time": "2023-04-23T16:53:57.326580Z",
     "end_time": "2023-04-23T16:53:57.346606Z"
    }
   },
   "outputs": [
    {
     "data": {
      "text/plain": "2235"
     },
     "execution_count": 3,
     "metadata": {},
     "output_type": "execute_result"
    }
   ],
   "source": [
    "create_folder_if_not_exists('./DatasetRAW/')\n",
    "create_folder_if_not_exists('./temp/')\n",
    "\n",
    "if len(os.listdir('./DatasetRAW/')) <= 1:\n",
    "    if not os.path.isdir('./temp/biankatpas-Cracks-and-Potholes-in-Road-Images-Dataset-1f20054/'):\n",
    "        download('https://github.com/biankatpas/Cracks-and-Potholes-in-Road-Images-Dataset/tarball/master', './temp/',\n",
    "                 kind='tar.gz', replace=True)\n",
    "    shutil.copytree('./temp/biankatpas-Cracks-and-Potholes-in-Road-Images-Dataset-1f20054/Dataset/', './DatasetRAW/',\n",
    "                        dirs_exist_ok=True)\n",
    "    shutil.rmtree('./temp/biankatpas-Cracks-and-Potholes-in-Road-Images-Dataset-1f20054/')\n",
    "\n",
    "len(os.listdir('./DatasetRAW/'))"
   ]
  },
  {
   "cell_type": "markdown",
   "source": [
    "**Преобразование датасета в формат MS-COCO с разбиением на тренировочную, валидационную и тестовую выборки**"
   ],
   "metadata": {
    "collapsed": false
   }
  },
  {
   "cell_type": "code",
   "execution_count": 8,
   "outputs": [],
   "source": [
    "import math\n",
    "import random\n",
    "import json"
   ],
   "metadata": {
    "collapsed": false,
    "ExecuteTime": {
     "start_time": "2023-04-23T17:42:14.507694Z",
     "end_time": "2023-04-23T17:42:14.526714Z"
    }
   }
  },
  {
   "cell_type": "code",
   "execution_count": 10,
   "outputs": [
    {
     "name": "stdout",
     "output_type": "stream",
     "text": [
      "Overall count: 2235\n",
      "Train count: 1453\n",
      "Validation count: 447\n",
      "Test count: 335\n",
      "\n",
      "Real Overall count: 2235\n",
      "Real Train count: 1453\n",
      "Real Validation count: 447\n",
      "Real Test count: 335\n"
     ]
    }
   ],
   "source": [
    "RAW_DIR = os.path.abspath('./DatasetRAW/')\n",
    "DATASET_DIR = os.path.abspath('./DatasetCocoFormat/')\n",
    "TRAIN_DIR = os.path.join(DATASET_DIR, 'train')\n",
    "TEST_DIR  = os.path.join(DATASET_DIR, 'test')\n",
    "VAL_DIR = os.path.join(DATASET_DIR, 'val')\n",
    "ANN_DIR = os.path.join(DATASET_DIR, 'annotations')\n",
    "\n",
    "create_folder_if_not_exists(DATASET_DIR)\n",
    "create_folder_if_not_exists(TRAIN_DIR)\n",
    "create_folder_if_not_exists(TEST_DIR)\n",
    "create_folder_if_not_exists(VAL_DIR)\n",
    "create_folder_if_not_exists(ANN_DIR)\n",
    "\n",
    "paths = os.listdir(RAW_DIR)\n",
    "img_count = len(paths)\n",
    "\n",
    "train_prob = 0.65\n",
    "val_prob = 0.2\n",
    "test_prob = 0.15\n",
    "\n",
    "test_count = math.trunc(img_count * test_prob)\n",
    "val_count = math.trunc(img_count * val_prob)\n",
    "train_count = img_count - test_count - val_count\n",
    "\n",
    "print('Overall count:', img_count)\n",
    "print('Train count:', train_count)\n",
    "print('Validation count:', val_count)\n",
    "print('Test count:', test_count)\n",
    "\n",
    "categories = {\n",
    "    \"lane\": 1,\n",
    "    \"crack\": 2,\n",
    "    \"pothole\": 3\n",
    "}\n",
    "\n",
    "a = categories.items()\n",
    "\n",
    "if len(os.listdir(TRAIN_DIR)) <= 0 and len(os.listdir(TEST_DIR)) <= 0 and len(os.listdir(VAL_DIR)) <= 0:\n",
    "    train_data_ann = CocoDataset(categories)\n",
    "    val_data_ann = CocoDataset(categories)\n",
    "    test_data_ann = CocoDataset(categories)\n",
    "\n",
    "    rand_paths = paths\n",
    "    random.shuffle(rand_paths)\n",
    "    i = 0\n",
    "    for pth in rand_paths:\n",
    "        SRC_PATH = os.path.join(RAW_DIR, pth)\n",
    "        if os.path.isdir(SRC_PATH):\n",
    "            if i < test_count:\n",
    "                process_image_and_masks(SRC_PATH, TEST_DIR, test_data_ann)\n",
    "                i = i + 1\n",
    "            elif test_count <= i < test_count + val_count:\n",
    "                process_image_and_masks(SRC_PATH, VAL_DIR, val_data_ann)\n",
    "                i = i + 1\n",
    "            elif test_count + val_count <= i <= img_count:\n",
    "                process_image_and_masks(SRC_PATH, TRAIN_DIR, train_data_ann)\n",
    "                i = i + 1\n",
    "    ann_test_count = len(test_data_ann.images) - 1\n",
    "    ann_val_count = len(val_data_ann.images) - 1\n",
    "    ann_train_count = len(train_data_ann.images) - 1\n",
    "\n",
    "    print()\n",
    "    print('Annotated Overall count:', ann_test_count+ann_val_count+ann_train_count)\n",
    "    print('Annotated Train count:', ann_train_count)\n",
    "    print('Annotated Validation count:', ann_val_count)\n",
    "    print('Annotated Test count:', ann_test_count)\n",
    "\n",
    "    assert ann_test_count == test_count\n",
    "    assert ann_val_count == val_count\n",
    "    assert ann_train_count == train_count\n",
    "\n",
    "    for ann in {\"train\": train_data_ann, \"val\": val_data_ann, \"test\": test_data_ann,}.items():\n",
    "        with open(os.path.join(ANN_DIR, ann[0]+\".json\"), \"w\") as out:\n",
    "            json.dump(ann[1].get_as_dict(), out, sort_keys=True, indent=4)\n",
    "\n",
    "real_test_count = len(os.listdir(TEST_DIR))\n",
    "real_val_count = len(os.listdir(VAL_DIR))\n",
    "real_train_count = len(os.listdir(TRAIN_DIR))\n",
    "\n",
    "print()\n",
    "print('Real Overall count:', real_test_count+real_val_count+real_train_count)\n",
    "print('Real Train count:', real_train_count)\n",
    "print('Real Validation count:', real_val_count)\n",
    "print('Real Test count:', real_test_count)\n",
    "\n",
    "assert real_test_count == test_count\n",
    "assert real_val_count == val_count\n",
    "assert real_train_count == train_count"
   ],
   "metadata": {
    "collapsed": false,
    "ExecuteTime": {
     "start_time": "2023-04-23T17:44:54.431492Z",
     "end_time": "2023-04-23T17:44:54.459545Z"
    }
   }
  }
 ],
 "metadata": {
  "kernelspec": {
   "display_name": "Python 3",
   "language": "python",
   "name": "python3"
  },
  "language_info": {
   "codemirror_mode": {
    "name": "ipython",
    "version": 2
   },
   "file_extension": ".py",
   "mimetype": "text/x-python",
   "name": "python",
   "nbconvert_exporter": "python",
   "pygments_lexer": "ipython2",
   "version": "2.7.6"
  }
 },
 "nbformat": 4,
 "nbformat_minor": 0
}
